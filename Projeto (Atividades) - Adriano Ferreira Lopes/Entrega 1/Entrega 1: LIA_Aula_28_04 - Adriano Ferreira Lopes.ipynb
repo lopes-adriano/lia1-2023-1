{
  "cells": [
    {
      "cell_type": "markdown",
      "id": "cea766ab",
      "metadata": {
        "id": "cea766ab"
      },
      "source": [
        "<hr style=\"height:10px\"> \n",
        " \n",
        "<div class='container2'>\t\n",
        "\t<div style='padding: 0 7em 2em 12em;'>\n",
        "\t<h1>Laboratório de Inovação e Automação 1 (LIA 1)</h1>\n",
        "\t<div style=\"font-size:12pt;float:left;\"> 2023/1 | 46M34 | Sala 200 CAE</div><br><br>\n",
        "    <div style=\"font-size:12pt;float:left;\"><b>Projetos de Inteligência Artificial</b></div>\n",
        "\t</div>\n",
        "</div>\n",
        "\n",
        "\n",
        " <hr style=\"height:5px\"> \n",
        "\n",
        "    \n",
        "<h2>Introdução ao Ambiente de Projetos</h2>\n",
        "\n",
        "Notebook desenvolvido por: <a href=\"https://github.com/lopes-adriano\">Adriano Ferreira Lopes</a>\n",
        "\n",
        " <hr style=\"height:2px\"> "
      ]
    },
    {
      "cell_type": "code",
      "execution_count": null,
      "id": "b59d1dc1",
      "metadata": {
        "id": "b59d1dc1",
        "outputId": "e8496c2b-d427-4b72-dc21-d5eb3621cfb4"
      },
      "outputs": [
        {
          "name": "stdout",
          "output_type": "stream",
          "text": [
            "Versão do Python: 3.10.9\n"
          ]
        }
      ],
      "source": [
        "#Checando versão do Python\n",
        "from platform import python_version\n",
        "print(f\"Versão do Python: {python_version()}\")"
      ]
    },
    {
      "cell_type": "code",
      "execution_count": null,
      "id": "0ab78ef6",
      "metadata": {
        "id": "0ab78ef6",
        "outputId": "9ccda8f2-537c-4547-d175-76a6514a1e1d"
      },
      "outputs": [
        {
          "name": "stdout",
          "output_type": "stream",
          "text": [
            "Olá\n"
          ]
        }
      ],
      "source": [
        "print('Olá')"
      ]
    },
    {
      "cell_type": "markdown",
      "id": "4fcda2f6",
      "metadata": {
        "id": "4fcda2f6"
      },
      "source": [
        "### Operadores aritméticos"
      ]
    },
    {
      "cell_type": "code",
      "execution_count": null,
      "id": "f98a70d4",
      "metadata": {
        "id": "f98a70d4",
        "outputId": "07caf708-9145-4142-adc4-a6e7720cab02"
      },
      "outputs": [
        {
          "data": {
            "text/plain": [
              "2"
            ]
          },
          "execution_count": 59,
          "metadata": {},
          "output_type": "execute_result"
        }
      ],
      "source": [
        "#Adição\n",
        "1+1"
      ]
    },
    {
      "cell_type": "code",
      "execution_count": null,
      "id": "0502f2ac",
      "metadata": {
        "id": "0502f2ac",
        "outputId": "3f1bfe0b-b8c2-45aa-ca61-6a64ea483d85"
      },
      "outputs": [
        {
          "data": {
            "text/plain": [
              "1"
            ]
          },
          "execution_count": 60,
          "metadata": {},
          "output_type": "execute_result"
        }
      ],
      "source": [
        "# Subtração\n",
        "2-1"
      ]
    },
    {
      "cell_type": "code",
      "execution_count": null,
      "id": "af995579",
      "metadata": {
        "id": "af995579",
        "outputId": "b4e98ba5-560d-4126-8991-00bbea03ddc4"
      },
      "outputs": [
        {
          "data": {
            "text/plain": [
              "4"
            ]
          },
          "execution_count": 61,
          "metadata": {},
          "output_type": "execute_result"
        }
      ],
      "source": [
        "#Multiplicação\n",
        "2*2"
      ]
    },
    {
      "cell_type": "code",
      "execution_count": null,
      "id": "782fd3e4",
      "metadata": {
        "id": "782fd3e4",
        "outputId": "fd0caeab-278f-4258-9cf2-15614d4d6655"
      },
      "outputs": [
        {
          "data": {
            "text/plain": [
              "2.0"
            ]
          },
          "execution_count": 62,
          "metadata": {},
          "output_type": "execute_result"
        }
      ],
      "source": [
        "#Divisão\n",
        "4/2"
      ]
    },
    {
      "cell_type": "code",
      "execution_count": null,
      "id": "3aa5fb94",
      "metadata": {
        "id": "3aa5fb94",
        "outputId": "05782924-97d4-4263-fd47-93e6da5cdf48"
      },
      "outputs": [
        {
          "data": {
            "text/plain": [
              "16"
            ]
          },
          "execution_count": 63,
          "metadata": {},
          "output_type": "execute_result"
        }
      ],
      "source": [
        "#Potência\n",
        "4**2"
      ]
    },
    {
      "cell_type": "code",
      "execution_count": null,
      "id": "6fe1d0ee",
      "metadata": {
        "id": "6fe1d0ee",
        "outputId": "93445c86-1492-45a4-e6d5-89f5f6f95260"
      },
      "outputs": [
        {
          "data": {
            "text/plain": [
              "1"
            ]
          },
          "execution_count": 64,
          "metadata": {},
          "output_type": "execute_result"
        }
      ],
      "source": [
        "#Módulo\n",
        "10%3"
      ]
    },
    {
      "cell_type": "markdown",
      "id": "42f34027",
      "metadata": {
        "id": "42f34027"
      },
      "source": [
        "### Tipos de Dados"
      ]
    },
    {
      "cell_type": "code",
      "execution_count": null,
      "id": "5760bb44",
      "metadata": {
        "id": "5760bb44",
        "outputId": "6599f792-7d74-47ef-e5b4-9667b52b0191"
      },
      "outputs": [
        {
          "data": {
            "text/plain": [
              "int"
            ]
          },
          "execution_count": 65,
          "metadata": {},
          "output_type": "execute_result"
        }
      ],
      "source": [
        "type(5) # Inteiro"
      ]
    },
    {
      "cell_type": "code",
      "execution_count": null,
      "id": "9ae7772d",
      "metadata": {
        "id": "9ae7772d",
        "outputId": "819a1913-3cb2-4f5a-ebcf-563ebc621406"
      },
      "outputs": [
        {
          "data": {
            "text/plain": [
              "float"
            ]
          },
          "execution_count": 66,
          "metadata": {},
          "output_type": "execute_result"
        }
      ],
      "source": [
        "type(5.0) #Float"
      ]
    },
    {
      "cell_type": "code",
      "execution_count": null,
      "id": "dc2a0df9",
      "metadata": {
        "id": "dc2a0df9",
        "outputId": "5289be8d-ffd7-45b5-cbe9-b8dc0f539bd3"
      },
      "outputs": [
        {
          "data": {
            "text/plain": [
              "str"
            ]
          },
          "execution_count": 67,
          "metadata": {},
          "output_type": "execute_result"
        }
      ],
      "source": [
        "type('Estudando Python!') #String"
      ]
    },
    {
      "cell_type": "markdown",
      "id": "bd543515",
      "metadata": {
        "id": "bd543515"
      },
      "source": [
        "### Condicional If"
      ]
    },
    {
      "cell_type": "code",
      "execution_count": null,
      "id": "45fe2ad7",
      "metadata": {
        "id": "45fe2ad7",
        "outputId": "6dd7c17b-3d53-4a03-bb4d-1f183698032a"
      },
      "outputs": [
        {
          "name": "stdout",
          "output_type": "stream",
          "text": [
            "Verdadeiro\n"
          ]
        }
      ],
      "source": [
        "#If\n",
        "if (5>2):\n",
        "    print(\"Verdadeiro\")"
      ]
    },
    {
      "cell_type": "code",
      "execution_count": null,
      "id": "1cb1be1c",
      "metadata": {
        "id": "1cb1be1c",
        "outputId": "076ef965-053f-4207-92a6-f12b3154cd23"
      },
      "outputs": [
        {
          "name": "stdout",
          "output_type": "stream",
          "text": [
            "Falso\n"
          ]
        }
      ],
      "source": [
        "#If...else\n",
        "if (5<2):\n",
        "    print(\"Verdadeiro\")\n",
        "else:\n",
        "    print(\"Falso\")"
      ]
    },
    {
      "cell_type": "code",
      "execution_count": null,
      "id": "6d361254",
      "metadata": {
        "id": "6d361254",
        "outputId": "d7efe23c-190a-4806-be40-3838abee6df4"
      },
      "outputs": [
        {
          "name": "stdout",
          "output_type": "stream",
          "text": [
            "Hoje fará sol!\n"
          ]
        }
      ],
      "source": [
        "# If...else com variável\n",
        "dia = 'Quarta-feira'\n",
        "if (dia =='Quarta-feira'):\n",
        "    print(\"Hoje fará sol!\")\n",
        "else:\n",
        "    print('Hoje vai chover')"
      ]
    },
    {
      "cell_type": "markdown",
      "id": "bd42835a",
      "metadata": {
        "id": "bd42835a"
      },
      "source": [
        "### Manipulando arquivos"
      ]
    },
    {
      "cell_type": "code",
      "execution_count": null,
      "id": "7a8e5749",
      "metadata": {
        "id": "7a8e5749"
      },
      "outputs": [],
      "source": [
        "# Abrindo arquivo para leitura\n",
        "a1 = open('teste.txt', 'r')"
      ]
    },
    {
      "cell_type": "code",
      "execution_count": null,
      "id": "0296e279",
      "metadata": {
        "id": "0296e279",
        "outputId": "6870c359-ec2b-4021-e3c5-4dc8afb8e331"
      },
      "outputs": [
        {
          "name": "stdout",
          "output_type": "stream",
          "text": [
            "Teste\n"
          ]
        }
      ],
      "source": [
        "#Lendo o arquivo\n",
        "print(a1.read())"
      ]
    },
    {
      "cell_type": "markdown",
      "id": "1f6d4773",
      "metadata": {
        "id": "1f6d4773"
      },
      "source": [
        "### Gravando arquivos"
      ]
    },
    {
      "cell_type": "code",
      "execution_count": null,
      "id": "a9bd56ba",
      "metadata": {
        "id": "a9bd56ba"
      },
      "outputs": [],
      "source": [
        "# Abrindo arquivo para gravação\n",
        "\n",
        "a2 = open('teste2.txt', 'w')"
      ]
    },
    {
      "cell_type": "code",
      "execution_count": null,
      "id": "82616334",
      "metadata": {
        "id": "82616334",
        "outputId": "7844b297-bbc1-4369-b9e0-ec8873e015ae"
      },
      "outputs": [
        {
          "data": {
            "text/plain": [
              "18"
            ]
          },
          "execution_count": 74,
          "metadata": {},
          "output_type": "execute_result"
        }
      ],
      "source": [
        "#Gravando no arquivo\n",
        "a2.write('Aprendendo Python!')"
      ]
    },
    {
      "cell_type": "code",
      "execution_count": null,
      "id": "011cd78a",
      "metadata": {
        "id": "011cd78a"
      },
      "outputs": [],
      "source": [
        "# Abrindo arquivo para leitura\n",
        "a2 = open('teste2.txt', 'r')"
      ]
    },
    {
      "cell_type": "code",
      "execution_count": null,
      "id": "52d1fe83",
      "metadata": {
        "id": "52d1fe83",
        "outputId": "2bbaa334-8b4c-4b0e-8db6-07adc85e0289"
      },
      "outputs": [
        {
          "name": "stdout",
          "output_type": "stream",
          "text": [
            "Aprendendo Python!\n"
          ]
        }
      ],
      "source": [
        "#Lendo o arquivo\n",
        "print(a2.read())"
      ]
    }
  ],
  "metadata": {
    "kernelspec": {
      "display_name": "Python 3 (ipykernel)",
      "language": "python",
      "name": "python3"
    },
    "language_info": {
      "codemirror_mode": {
        "name": "ipython",
        "version": 3
      },
      "file_extension": ".py",
      "mimetype": "text/x-python",
      "name": "python",
      "nbconvert_exporter": "python",
      "pygments_lexer": "ipython3",
      "version": "3.10.9"
    },
    "colab": {
      "provenance": []
    }
  },
  "nbformat": 4,
  "nbformat_minor": 5
}